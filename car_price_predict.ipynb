{
  "nbformat": 4,
  "nbformat_minor": 0,
  "metadata": {
    "colab": {
      "provenance": []
    },
    "kernelspec": {
      "name": "python3",
      "display_name": "Python 3"
    },
    "language_info": {
      "name": "python"
    }
  },
  "cells": [
    {
      "cell_type": "code",
      "execution_count": null,
      "metadata": {
        "id": "QBXk7qHrVxtx"
      },
      "outputs": [],
      "source": [
        "import numpy as np\n",
        "import pandas as pd"
      ]
    },
    {
      "cell_type": "code",
      "source": [
        "df = pd.read_csv('/content/car.csv')"
      ],
      "metadata": {
        "id": "vumsHuTRWBjC"
      },
      "execution_count": null,
      "outputs": []
    },
    {
      "cell_type": "code",
      "source": [
        "df.info()"
      ],
      "metadata": {
        "colab": {
          "base_uri": "https://localhost:8080/"
        },
        "id": "58nFte96WKR-",
        "outputId": "e1ebbd92-7a83-4d7f-e2a8-f42cd6ed543d"
      },
      "execution_count": null,
      "outputs": [
        {
          "output_type": "stream",
          "name": "stdout",
          "text": [
            "<class 'pandas.core.frame.DataFrame'>\n",
            "RangeIndex: 205 entries, 0 to 204\n",
            "Data columns (total 26 columns):\n",
            " #   Column            Non-Null Count  Dtype  \n",
            "---  ------            --------------  -----  \n",
            " 0   car_ID            205 non-null    int64  \n",
            " 1   symboling         205 non-null    int64  \n",
            " 2   CarName           205 non-null    object \n",
            " 3   fueltype          205 non-null    object \n",
            " 4   aspiration        205 non-null    object \n",
            " 5   doornumber        205 non-null    object \n",
            " 6   carbody           205 non-null    object \n",
            " 7   drivewheel        205 non-null    object \n",
            " 8   enginelocation    205 non-null    object \n",
            " 9   wheelbase         205 non-null    float64\n",
            " 10  carlength         205 non-null    float64\n",
            " 11  carwidth          205 non-null    float64\n",
            " 12  carheight         205 non-null    float64\n",
            " 13  curbweight        205 non-null    int64  \n",
            " 14  enginetype        205 non-null    object \n",
            " 15  cylindernumber    205 non-null    object \n",
            " 16  enginesize        205 non-null    int64  \n",
            " 17  fuelsystem        205 non-null    object \n",
            " 18  boreratio         205 non-null    float64\n",
            " 19  stroke            205 non-null    float64\n",
            " 20  compressionratio  205 non-null    float64\n",
            " 21  horsepower        205 non-null    int64  \n",
            " 22  peakrpm           205 non-null    int64  \n",
            " 23  citympg           205 non-null    int64  \n",
            " 24  highwaympg        205 non-null    int64  \n",
            " 25  price             205 non-null    float64\n",
            "dtypes: float64(8), int64(8), object(10)\n",
            "memory usage: 41.8+ KB\n"
          ]
        }
      ]
    },
    {
      "cell_type": "code",
      "source": [
        "df.head()"
      ],
      "metadata": {
        "colab": {
          "base_uri": "https://localhost:8080/",
          "height": 351
        },
        "id": "VZHuHBpxWan2",
        "outputId": "31ceee03-15dc-48ab-9838-d2d6fb77e180"
      },
      "execution_count": null,
      "outputs": [
        {
          "output_type": "execute_result",
          "data": {
            "text/plain": [
              "   car_ID  symboling                   CarName fueltype aspiration doornumber  \\\n",
              "0       1          3        alfa-romero giulia      gas        std        two   \n",
              "1       2          3       alfa-romero stelvio      gas        std        two   \n",
              "2       3          1  alfa-romero Quadrifoglio      gas        std        two   \n",
              "3       4          2               audi 100 ls      gas        std       four   \n",
              "4       5          2                audi 100ls      gas        std       four   \n",
              "\n",
              "       carbody drivewheel enginelocation  wheelbase  ...  enginesize  \\\n",
              "0  convertible        rwd          front       88.6  ...         130   \n",
              "1  convertible        rwd          front       88.6  ...         130   \n",
              "2    hatchback        rwd          front       94.5  ...         152   \n",
              "3        sedan        fwd          front       99.8  ...         109   \n",
              "4        sedan        4wd          front       99.4  ...         136   \n",
              "\n",
              "   fuelsystem  boreratio  stroke compressionratio horsepower  peakrpm citympg  \\\n",
              "0        mpfi       3.47    2.68              9.0        111     5000      21   \n",
              "1        mpfi       3.47    2.68              9.0        111     5000      21   \n",
              "2        mpfi       2.68    3.47              9.0        154     5000      19   \n",
              "3        mpfi       3.19    3.40             10.0        102     5500      24   \n",
              "4        mpfi       3.19    3.40              8.0        115     5500      18   \n",
              "\n",
              "   highwaympg    price  \n",
              "0          27  13495.0  \n",
              "1          27  16500.0  \n",
              "2          26  16500.0  \n",
              "3          30  13950.0  \n",
              "4          22  17450.0  \n",
              "\n",
              "[5 rows x 26 columns]"
            ],
            "text/html": [
              "\n",
              "  <div id=\"df-68b30921-1fbd-4b1f-b889-c7fec1cb49de\">\n",
              "    <div class=\"colab-df-container\">\n",
              "      <div>\n",
              "<style scoped>\n",
              "    .dataframe tbody tr th:only-of-type {\n",
              "        vertical-align: middle;\n",
              "    }\n",
              "\n",
              "    .dataframe tbody tr th {\n",
              "        vertical-align: top;\n",
              "    }\n",
              "\n",
              "    .dataframe thead th {\n",
              "        text-align: right;\n",
              "    }\n",
              "</style>\n",
              "<table border=\"1\" class=\"dataframe\">\n",
              "  <thead>\n",
              "    <tr style=\"text-align: right;\">\n",
              "      <th></th>\n",
              "      <th>car_ID</th>\n",
              "      <th>symboling</th>\n",
              "      <th>CarName</th>\n",
              "      <th>fueltype</th>\n",
              "      <th>aspiration</th>\n",
              "      <th>doornumber</th>\n",
              "      <th>carbody</th>\n",
              "      <th>drivewheel</th>\n",
              "      <th>enginelocation</th>\n",
              "      <th>wheelbase</th>\n",
              "      <th>...</th>\n",
              "      <th>enginesize</th>\n",
              "      <th>fuelsystem</th>\n",
              "      <th>boreratio</th>\n",
              "      <th>stroke</th>\n",
              "      <th>compressionratio</th>\n",
              "      <th>horsepower</th>\n",
              "      <th>peakrpm</th>\n",
              "      <th>citympg</th>\n",
              "      <th>highwaympg</th>\n",
              "      <th>price</th>\n",
              "    </tr>\n",
              "  </thead>\n",
              "  <tbody>\n",
              "    <tr>\n",
              "      <th>0</th>\n",
              "      <td>1</td>\n",
              "      <td>3</td>\n",
              "      <td>alfa-romero giulia</td>\n",
              "      <td>gas</td>\n",
              "      <td>std</td>\n",
              "      <td>two</td>\n",
              "      <td>convertible</td>\n",
              "      <td>rwd</td>\n",
              "      <td>front</td>\n",
              "      <td>88.6</td>\n",
              "      <td>...</td>\n",
              "      <td>130</td>\n",
              "      <td>mpfi</td>\n",
              "      <td>3.47</td>\n",
              "      <td>2.68</td>\n",
              "      <td>9.0</td>\n",
              "      <td>111</td>\n",
              "      <td>5000</td>\n",
              "      <td>21</td>\n",
              "      <td>27</td>\n",
              "      <td>13495.0</td>\n",
              "    </tr>\n",
              "    <tr>\n",
              "      <th>1</th>\n",
              "      <td>2</td>\n",
              "      <td>3</td>\n",
              "      <td>alfa-romero stelvio</td>\n",
              "      <td>gas</td>\n",
              "      <td>std</td>\n",
              "      <td>two</td>\n",
              "      <td>convertible</td>\n",
              "      <td>rwd</td>\n",
              "      <td>front</td>\n",
              "      <td>88.6</td>\n",
              "      <td>...</td>\n",
              "      <td>130</td>\n",
              "      <td>mpfi</td>\n",
              "      <td>3.47</td>\n",
              "      <td>2.68</td>\n",
              "      <td>9.0</td>\n",
              "      <td>111</td>\n",
              "      <td>5000</td>\n",
              "      <td>21</td>\n",
              "      <td>27</td>\n",
              "      <td>16500.0</td>\n",
              "    </tr>\n",
              "    <tr>\n",
              "      <th>2</th>\n",
              "      <td>3</td>\n",
              "      <td>1</td>\n",
              "      <td>alfa-romero Quadrifoglio</td>\n",
              "      <td>gas</td>\n",
              "      <td>std</td>\n",
              "      <td>two</td>\n",
              "      <td>hatchback</td>\n",
              "      <td>rwd</td>\n",
              "      <td>front</td>\n",
              "      <td>94.5</td>\n",
              "      <td>...</td>\n",
              "      <td>152</td>\n",
              "      <td>mpfi</td>\n",
              "      <td>2.68</td>\n",
              "      <td>3.47</td>\n",
              "      <td>9.0</td>\n",
              "      <td>154</td>\n",
              "      <td>5000</td>\n",
              "      <td>19</td>\n",
              "      <td>26</td>\n",
              "      <td>16500.0</td>\n",
              "    </tr>\n",
              "    <tr>\n",
              "      <th>3</th>\n",
              "      <td>4</td>\n",
              "      <td>2</td>\n",
              "      <td>audi 100 ls</td>\n",
              "      <td>gas</td>\n",
              "      <td>std</td>\n",
              "      <td>four</td>\n",
              "      <td>sedan</td>\n",
              "      <td>fwd</td>\n",
              "      <td>front</td>\n",
              "      <td>99.8</td>\n",
              "      <td>...</td>\n",
              "      <td>109</td>\n",
              "      <td>mpfi</td>\n",
              "      <td>3.19</td>\n",
              "      <td>3.40</td>\n",
              "      <td>10.0</td>\n",
              "      <td>102</td>\n",
              "      <td>5500</td>\n",
              "      <td>24</td>\n",
              "      <td>30</td>\n",
              "      <td>13950.0</td>\n",
              "    </tr>\n",
              "    <tr>\n",
              "      <th>4</th>\n",
              "      <td>5</td>\n",
              "      <td>2</td>\n",
              "      <td>audi 100ls</td>\n",
              "      <td>gas</td>\n",
              "      <td>std</td>\n",
              "      <td>four</td>\n",
              "      <td>sedan</td>\n",
              "      <td>4wd</td>\n",
              "      <td>front</td>\n",
              "      <td>99.4</td>\n",
              "      <td>...</td>\n",
              "      <td>136</td>\n",
              "      <td>mpfi</td>\n",
              "      <td>3.19</td>\n",
              "      <td>3.40</td>\n",
              "      <td>8.0</td>\n",
              "      <td>115</td>\n",
              "      <td>5500</td>\n",
              "      <td>18</td>\n",
              "      <td>22</td>\n",
              "      <td>17450.0</td>\n",
              "    </tr>\n",
              "  </tbody>\n",
              "</table>\n",
              "<p>5 rows × 26 columns</p>\n",
              "</div>\n",
              "      <button class=\"colab-df-convert\" onclick=\"convertToInteractive('df-68b30921-1fbd-4b1f-b889-c7fec1cb49de')\"\n",
              "              title=\"Convert this dataframe to an interactive table.\"\n",
              "              style=\"display:none;\">\n",
              "        \n",
              "  <svg xmlns=\"http://www.w3.org/2000/svg\" height=\"24px\"viewBox=\"0 0 24 24\"\n",
              "       width=\"24px\">\n",
              "    <path d=\"M0 0h24v24H0V0z\" fill=\"none\"/>\n",
              "    <path d=\"M18.56 5.44l.94 2.06.94-2.06 2.06-.94-2.06-.94-.94-2.06-.94 2.06-2.06.94zm-11 1L8.5 8.5l.94-2.06 2.06-.94-2.06-.94L8.5 2.5l-.94 2.06-2.06.94zm10 10l.94 2.06.94-2.06 2.06-.94-2.06-.94-.94-2.06-.94 2.06-2.06.94z\"/><path d=\"M17.41 7.96l-1.37-1.37c-.4-.4-.92-.59-1.43-.59-.52 0-1.04.2-1.43.59L10.3 9.45l-7.72 7.72c-.78.78-.78 2.05 0 2.83L4 21.41c.39.39.9.59 1.41.59.51 0 1.02-.2 1.41-.59l7.78-7.78 2.81-2.81c.8-.78.8-2.07 0-2.86zM5.41 20L4 18.59l7.72-7.72 1.47 1.35L5.41 20z\"/>\n",
              "  </svg>\n",
              "      </button>\n",
              "      \n",
              "  <style>\n",
              "    .colab-df-container {\n",
              "      display:flex;\n",
              "      flex-wrap:wrap;\n",
              "      gap: 12px;\n",
              "    }\n",
              "\n",
              "    .colab-df-convert {\n",
              "      background-color: #E8F0FE;\n",
              "      border: none;\n",
              "      border-radius: 50%;\n",
              "      cursor: pointer;\n",
              "      display: none;\n",
              "      fill: #1967D2;\n",
              "      height: 32px;\n",
              "      padding: 0 0 0 0;\n",
              "      width: 32px;\n",
              "    }\n",
              "\n",
              "    .colab-df-convert:hover {\n",
              "      background-color: #E2EBFA;\n",
              "      box-shadow: 0px 1px 2px rgba(60, 64, 67, 0.3), 0px 1px 3px 1px rgba(60, 64, 67, 0.15);\n",
              "      fill: #174EA6;\n",
              "    }\n",
              "\n",
              "    [theme=dark] .colab-df-convert {\n",
              "      background-color: #3B4455;\n",
              "      fill: #D2E3FC;\n",
              "    }\n",
              "\n",
              "    [theme=dark] .colab-df-convert:hover {\n",
              "      background-color: #434B5C;\n",
              "      box-shadow: 0px 1px 3px 1px rgba(0, 0, 0, 0.15);\n",
              "      filter: drop-shadow(0px 1px 2px rgba(0, 0, 0, 0.3));\n",
              "      fill: #FFFFFF;\n",
              "    }\n",
              "  </style>\n",
              "\n",
              "      <script>\n",
              "        const buttonEl =\n",
              "          document.querySelector('#df-68b30921-1fbd-4b1f-b889-c7fec1cb49de button.colab-df-convert');\n",
              "        buttonEl.style.display =\n",
              "          google.colab.kernel.accessAllowed ? 'block' : 'none';\n",
              "\n",
              "        async function convertToInteractive(key) {\n",
              "          const element = document.querySelector('#df-68b30921-1fbd-4b1f-b889-c7fec1cb49de');\n",
              "          const dataTable =\n",
              "            await google.colab.kernel.invokeFunction('convertToInteractive',\n",
              "                                                     [key], {});\n",
              "          if (!dataTable) return;\n",
              "\n",
              "          const docLinkHtml = 'Like what you see? Visit the ' +\n",
              "            '<a target=\"_blank\" href=https://colab.research.google.com/notebooks/data_table.ipynb>data table notebook</a>'\n",
              "            + ' to learn more about interactive tables.';\n",
              "          element.innerHTML = '';\n",
              "          dataTable['output_type'] = 'display_data';\n",
              "          await google.colab.output.renderOutput(dataTable, element);\n",
              "          const docLink = document.createElement('div');\n",
              "          docLink.innerHTML = docLinkHtml;\n",
              "          element.appendChild(docLink);\n",
              "        }\n",
              "      </script>\n",
              "    </div>\n",
              "  </div>\n",
              "  "
            ]
          },
          "metadata": {},
          "execution_count": 4
        }
      ]
    },
    {
      "cell_type": "code",
      "source": [
        "odf = pd.get_dummies(df, columns = ['CarName', 'fueltype', 'aspiration','doornumber', 'carbody','drivewheel', 'enginelocation','enginetype','cylindernumber', 'fuelsystem' ])\n",
        "print(odf)"
      ],
      "metadata": {
        "colab": {
          "base_uri": "https://localhost:8080/"
        },
        "id": "-5c-68GRcL1F",
        "outputId": "ad39b869-004b-419c-f3b6-8fe82749ae1c"
      },
      "execution_count": null,
      "outputs": [
        {
          "output_type": "stream",
          "name": "stdout",
          "text": [
            "     car_ID  symboling  wheelbase  carlength  carwidth  carheight  curbweight  \\\n",
            "0         1          3       88.6      168.8      64.1       48.8        2548   \n",
            "1         2          3       88.6      168.8      64.1       48.8        2548   \n",
            "2         3          1       94.5      171.2      65.5       52.4        2823   \n",
            "3         4          2       99.8      176.6      66.2       54.3        2337   \n",
            "4         5          2       99.4      176.6      66.4       54.3        2824   \n",
            "..      ...        ...        ...        ...       ...        ...         ...   \n",
            "200     201         -1      109.1      188.8      68.9       55.5        2952   \n",
            "201     202         -1      109.1      188.8      68.8       55.5        3049   \n",
            "202     203         -1      109.1      188.8      68.9       55.5        3012   \n",
            "203     204         -1      109.1      188.8      68.9       55.5        3217   \n",
            "204     205         -1      109.1      188.8      68.9       55.5        3062   \n",
            "\n",
            "     enginesize  boreratio  stroke  ...  cylindernumber_twelve  \\\n",
            "0           130       3.47    2.68  ...                      0   \n",
            "1           130       3.47    2.68  ...                      0   \n",
            "2           152       2.68    3.47  ...                      0   \n",
            "3           109       3.19    3.40  ...                      0   \n",
            "4           136       3.19    3.40  ...                      0   \n",
            "..          ...        ...     ...  ...                    ...   \n",
            "200         141       3.78    3.15  ...                      0   \n",
            "201         141       3.78    3.15  ...                      0   \n",
            "202         173       3.58    2.87  ...                      0   \n",
            "203         145       3.01    3.40  ...                      0   \n",
            "204         141       3.78    3.15  ...                      0   \n",
            "\n",
            "     cylindernumber_two  fuelsystem_1bbl  fuelsystem_2bbl  fuelsystem_4bbl  \\\n",
            "0                     0                0                0                0   \n",
            "1                     0                0                0                0   \n",
            "2                     0                0                0                0   \n",
            "3                     0                0                0                0   \n",
            "4                     0                0                0                0   \n",
            "..                  ...              ...              ...              ...   \n",
            "200                   0                0                0                0   \n",
            "201                   0                0                0                0   \n",
            "202                   0                0                0                0   \n",
            "203                   0                0                0                0   \n",
            "204                   0                0                0                0   \n",
            "\n",
            "     fuelsystem_idi  fuelsystem_mfi  fuelsystem_mpfi  fuelsystem_spdi  \\\n",
            "0                 0               0                1                0   \n",
            "1                 0               0                1                0   \n",
            "2                 0               0                1                0   \n",
            "3                 0               0                1                0   \n",
            "4                 0               0                1                0   \n",
            "..              ...             ...              ...              ...   \n",
            "200               0               0                1                0   \n",
            "201               0               0                1                0   \n",
            "202               0               0                1                0   \n",
            "203               1               0                0                0   \n",
            "204               0               0                1                0   \n",
            "\n",
            "     fuelsystem_spfi  \n",
            "0                  0  \n",
            "1                  0  \n",
            "2                  0  \n",
            "3                  0  \n",
            "4                  0  \n",
            "..               ...  \n",
            "200                0  \n",
            "201                0  \n",
            "202                0  \n",
            "203                0  \n",
            "204                0  \n",
            "\n",
            "[205 rows x 201 columns]\n"
          ]
        }
      ]
    },
    {
      "cell_type": "code",
      "source": [
        "from sklearn.model_selection import train_test_split\n",
        "from sklearn.metrics import accuracy_score"
      ],
      "metadata": {
        "id": "F3AcWZV7W8fp"
      },
      "execution_count": null,
      "outputs": []
    },
    {
      "cell_type": "code",
      "source": [
        "X = odf.drop(['price','car_ID'],axis =1,inplace = False)\n",
        "y = odf['price']"
      ],
      "metadata": {
        "id": "_9Qrr3i7XciZ"
      },
      "execution_count": null,
      "outputs": []
    },
    {
      "cell_type": "code",
      "source": [
        "print(X)"
      ],
      "metadata": {
        "colab": {
          "base_uri": "https://localhost:8080/"
        },
        "id": "Woa-nK6YXr1w",
        "outputId": "b3e86b26-3d5c-4614-ba7f-eb3afb3c2e3b"
      },
      "execution_count": null,
      "outputs": [
        {
          "output_type": "stream",
          "name": "stdout",
          "text": [
            "     symboling  wheelbase  carlength  carwidth  carheight  curbweight  \\\n",
            "0            3       88.6      168.8      64.1       48.8        2548   \n",
            "1            3       88.6      168.8      64.1       48.8        2548   \n",
            "2            1       94.5      171.2      65.5       52.4        2823   \n",
            "3            2       99.8      176.6      66.2       54.3        2337   \n",
            "4            2       99.4      176.6      66.4       54.3        2824   \n",
            "..         ...        ...        ...       ...        ...         ...   \n",
            "200         -1      109.1      188.8      68.9       55.5        2952   \n",
            "201         -1      109.1      188.8      68.8       55.5        3049   \n",
            "202         -1      109.1      188.8      68.9       55.5        3012   \n",
            "203         -1      109.1      188.8      68.9       55.5        3217   \n",
            "204         -1      109.1      188.8      68.9       55.5        3062   \n",
            "\n",
            "     enginesize  boreratio  stroke  compressionratio  ...  \\\n",
            "0           130       3.47    2.68               9.0  ...   \n",
            "1           130       3.47    2.68               9.0  ...   \n",
            "2           152       2.68    3.47               9.0  ...   \n",
            "3           109       3.19    3.40              10.0  ...   \n",
            "4           136       3.19    3.40               8.0  ...   \n",
            "..          ...        ...     ...               ...  ...   \n",
            "200         141       3.78    3.15               9.5  ...   \n",
            "201         141       3.78    3.15               8.7  ...   \n",
            "202         173       3.58    2.87               8.8  ...   \n",
            "203         145       3.01    3.40              23.0  ...   \n",
            "204         141       3.78    3.15               9.5  ...   \n",
            "\n",
            "     cylindernumber_twelve  cylindernumber_two  fuelsystem_1bbl  \\\n",
            "0                        0                   0                0   \n",
            "1                        0                   0                0   \n",
            "2                        0                   0                0   \n",
            "3                        0                   0                0   \n",
            "4                        0                   0                0   \n",
            "..                     ...                 ...              ...   \n",
            "200                      0                   0                0   \n",
            "201                      0                   0                0   \n",
            "202                      0                   0                0   \n",
            "203                      0                   0                0   \n",
            "204                      0                   0                0   \n",
            "\n",
            "     fuelsystem_2bbl  fuelsystem_4bbl  fuelsystem_idi  fuelsystem_mfi  \\\n",
            "0                  0                0               0               0   \n",
            "1                  0                0               0               0   \n",
            "2                  0                0               0               0   \n",
            "3                  0                0               0               0   \n",
            "4                  0                0               0               0   \n",
            "..               ...              ...             ...             ...   \n",
            "200                0                0               0               0   \n",
            "201                0                0               0               0   \n",
            "202                0                0               0               0   \n",
            "203                0                0               1               0   \n",
            "204                0                0               0               0   \n",
            "\n",
            "     fuelsystem_mpfi  fuelsystem_spdi  fuelsystem_spfi  \n",
            "0                  1                0                0  \n",
            "1                  1                0                0  \n",
            "2                  1                0                0  \n",
            "3                  1                0                0  \n",
            "4                  1                0                0  \n",
            "..               ...              ...              ...  \n",
            "200                1                0                0  \n",
            "201                1                0                0  \n",
            "202                1                0                0  \n",
            "203                0                0                0  \n",
            "204                1                0                0  \n",
            "\n",
            "[205 rows x 199 columns]\n"
          ]
        }
      ]
    },
    {
      "cell_type": "code",
      "source": [
        "print(y)"
      ],
      "metadata": {
        "colab": {
          "base_uri": "https://localhost:8080/"
        },
        "id": "8KrR_ReAXwH4",
        "outputId": "fb0c882c-36a4-4863-9309-514baa78edd4"
      },
      "execution_count": null,
      "outputs": [
        {
          "output_type": "stream",
          "name": "stdout",
          "text": [
            "0      13495.0\n",
            "1      16500.0\n",
            "2      16500.0\n",
            "3      13950.0\n",
            "4      17450.0\n",
            "        ...   \n",
            "200    16845.0\n",
            "201    19045.0\n",
            "202    21485.0\n",
            "203    22470.0\n",
            "204    22625.0\n",
            "Name: price, Length: 205, dtype: float64\n"
          ]
        }
      ]
    },
    {
      "cell_type": "code",
      "source": [
        "X_train, X_test, y_train, y_test = train_test_split(X, y, test_size=0.2, random_state=42)"
      ],
      "metadata": {
        "id": "SNuMs-xqYE2h"
      },
      "execution_count": null,
      "outputs": []
    },
    {
      "cell_type": "code",
      "source": [
        "print(X_test)"
      ],
      "metadata": {
        "colab": {
          "base_uri": "https://localhost:8080/"
        },
        "id": "Ze7SrborYGsF",
        "outputId": "8f4b8563-22ce-4ef0-aa37-94f0d16db77b"
      },
      "execution_count": null,
      "outputs": [
        {
          "output_type": "stream",
          "name": "stdout",
          "text": [
            "     symboling  wheelbase  carlength  carwidth  carheight  curbweight  \\\n",
            "15           0      103.5      189.0      66.9       55.7        3230   \n",
            "9            0       99.5      178.2      67.9       52.0        3053   \n",
            "100          0       97.2      173.4      65.2       54.7        2302   \n",
            "132          3       99.1      186.6      66.5       56.1        2658   \n",
            "68          -1      110.0      190.9      70.3       58.7        3750   \n",
            "95           1       94.5      165.6      63.8       53.3        2028   \n",
            "159          0       95.7      166.3      64.4       52.8        2275   \n",
            "162          0       95.7      166.3      64.4       52.8        2140   \n",
            "147          0       97.0      173.5      65.4       53.0        2455   \n",
            "182          2       97.3      171.7      65.5       55.7        2261   \n",
            "191          0      100.4      180.2      66.9       55.1        2661   \n",
            "164          1       94.5      168.7      64.0       52.6        2204   \n",
            "65           0      104.9      175.0      66.1       54.4        2670   \n",
            "175         -1      102.4      175.6      66.5       53.9        2414   \n",
            "73           0      120.9      208.1      71.7       56.7        3900   \n",
            "152          1       95.7      158.7      63.6       54.5        2015   \n",
            "18           2       88.4      141.1      60.3       53.2        1488   \n",
            "82           3       95.9      173.2      66.3       50.2        2833   \n",
            "86           1       96.3      172.4      65.4       51.6        2405   \n",
            "143          0       97.2      172.0      65.4       52.5        2340   \n",
            "60           0       98.8      177.8      66.5       55.5        2410   \n",
            "101          0      100.4      181.7      66.5       55.1        3095   \n",
            "98           2       95.1      162.4      63.8       53.3        2008   \n",
            "30           2       86.6      144.6      63.9       50.8        1713   \n",
            "25           1       93.7      157.3      63.8       50.6        1989   \n",
            "16           0      103.5      193.8      67.9       53.7        3380   \n",
            "168          2       98.4      176.2      65.6       52.0        2536   \n",
            "195         -1      104.3      188.8      67.2       57.5        3034   \n",
            "97           1       94.5      170.2      63.8       53.5        2037   \n",
            "194         -2      104.3      188.8      67.2       56.2        2912   \n",
            "67          -1      110.0      190.9      70.3       56.5        3515   \n",
            "120          1       93.7      157.3      63.8       50.6        1967   \n",
            "154          0       95.7      169.7      63.6       59.1        2290   \n",
            "202         -1      109.1      188.8      68.9       55.5        3012   \n",
            "79           1       93.0      157.3      63.8       50.8        2145   \n",
            "69           0      106.7      187.5      70.3       54.9        3495   \n",
            "145          0       97.0      172.0      65.4       54.3        2510   \n",
            "55           3       95.3      169.0      65.7       49.6        2380   \n",
            "45           0       94.5      155.9      63.6       52.0        1909   \n",
            "84           3       95.9      173.2      66.3       50.2        2926   \n",
            "146          0       97.0      173.5      65.4       53.0        2290   \n",
            "\n",
            "     enginesize  boreratio  stroke  compressionratio  ...  \\\n",
            "15          209       3.62   3.390              8.00  ...   \n",
            "9           131       3.13   3.400              7.00  ...   \n",
            "100         120       3.33   3.470              8.50  ...   \n",
            "132         121       3.54   3.070              9.31  ...   \n",
            "68          183       3.58   3.640             21.50  ...   \n",
            "95           97       3.15   3.290              9.40  ...   \n",
            "159         110       3.27   3.350             22.50  ...   \n",
            "162          98       3.19   3.030              9.00  ...   \n",
            "147         108       3.62   2.640              9.00  ...   \n",
            "182          97       3.01   3.400             23.00  ...   \n",
            "191         136       3.19   3.400              8.50  ...   \n",
            "164          98       3.19   3.030              9.00  ...   \n",
            "65          140       3.76   3.160              8.00  ...   \n",
            "175         122       3.31   3.540              8.70  ...   \n",
            "73          308       3.80   3.350              8.00  ...   \n",
            "152          92       3.05   3.030              9.00  ...   \n",
            "18           61       2.91   3.030              9.50  ...   \n",
            "82          156       3.58   3.860              7.00  ...   \n",
            "86          122       3.35   3.460              8.50  ...   \n",
            "143         108       3.62   2.640              9.00  ...   \n",
            "60          122       3.39   3.390              8.60  ...   \n",
            "101         181       3.43   3.270              9.00  ...   \n",
            "98           97       3.15   3.290              9.40  ...   \n",
            "30           92       2.91   3.410              9.60  ...   \n",
            "25           90       2.97   3.230              9.40  ...   \n",
            "16          209       3.62   3.390              8.00  ...   \n",
            "168         146       3.62   3.500              9.30  ...   \n",
            "195         141       3.78   3.150              9.50  ...   \n",
            "97           97       3.15   3.290              9.40  ...   \n",
            "194         141       3.78   3.150              9.50  ...   \n",
            "67          183       3.58   3.640             21.50  ...   \n",
            "120          90       2.97   3.230              9.40  ...   \n",
            "154          92       3.05   3.030              9.00  ...   \n",
            "202         173       3.58   2.870              8.80  ...   \n",
            "79           98       3.03   3.390              7.60  ...   \n",
            "69          183       3.58   3.640             21.50  ...   \n",
            "145         108       3.62   2.640              7.70  ...   \n",
            "55           70       3.33   3.255              9.40  ...   \n",
            "45           90       3.03   3.110              9.60  ...   \n",
            "84          156       3.59   3.860              7.00  ...   \n",
            "146         108       3.62   2.640              9.00  ...   \n",
            "\n",
            "     cylindernumber_twelve  cylindernumber_two  fuelsystem_1bbl  \\\n",
            "15                       0                   0                0   \n",
            "9                        0                   0                0   \n",
            "100                      0                   0                0   \n",
            "132                      0                   0                0   \n",
            "68                       0                   0                0   \n",
            "95                       0                   0                0   \n",
            "159                      0                   0                0   \n",
            "162                      0                   0                0   \n",
            "147                      0                   0                0   \n",
            "182                      0                   0                0   \n",
            "191                      0                   0                0   \n",
            "164                      0                   0                0   \n",
            "65                       0                   0                0   \n",
            "175                      0                   0                0   \n",
            "73                       0                   0                0   \n",
            "152                      0                   0                0   \n",
            "18                       0                   0                0   \n",
            "82                       0                   0                0   \n",
            "86                       0                   0                0   \n",
            "143                      0                   0                0   \n",
            "60                       0                   0                0   \n",
            "101                      0                   0                0   \n",
            "98                       0                   0                0   \n",
            "30                       0                   0                1   \n",
            "25                       0                   0                0   \n",
            "16                       0                   0                0   \n",
            "168                      0                   0                0   \n",
            "195                      0                   0                0   \n",
            "97                       0                   0                0   \n",
            "194                      0                   0                0   \n",
            "67                       0                   0                0   \n",
            "120                      0                   0                0   \n",
            "154                      0                   0                0   \n",
            "202                      0                   0                0   \n",
            "79                       0                   0                0   \n",
            "69                       0                   0                0   \n",
            "145                      0                   0                0   \n",
            "55                       0                   1                0   \n",
            "45                       0                   0                0   \n",
            "84                       0                   0                0   \n",
            "146                      0                   0                0   \n",
            "\n",
            "     fuelsystem_2bbl  fuelsystem_4bbl  fuelsystem_idi  fuelsystem_mfi  \\\n",
            "15                 0                0               0               0   \n",
            "9                  0                0               0               0   \n",
            "100                1                0               0               0   \n",
            "132                0                0               0               0   \n",
            "68                 0                0               1               0   \n",
            "95                 1                0               0               0   \n",
            "159                0                0               1               0   \n",
            "162                1                0               0               0   \n",
            "147                0                0               0               0   \n",
            "182                0                0               1               0   \n",
            "191                0                0               0               0   \n",
            "164                1                0               0               0   \n",
            "65                 0                0               0               0   \n",
            "175                0                0               0               0   \n",
            "73                 0                0               0               0   \n",
            "152                1                0               0               0   \n",
            "18                 1                0               0               0   \n",
            "82                 0                0               0               0   \n",
            "86                 1                0               0               0   \n",
            "143                0                0               0               0   \n",
            "60                 1                0               0               0   \n",
            "101                0                0               0               0   \n",
            "98                 1                0               0               0   \n",
            "30                 0                0               0               0   \n",
            "25                 1                0               0               0   \n",
            "16                 0                0               0               0   \n",
            "168                0                0               0               0   \n",
            "195                0                0               0               0   \n",
            "97                 1                0               0               0   \n",
            "194                0                0               0               0   \n",
            "67                 0                0               1               0   \n",
            "120                1                0               0               0   \n",
            "154                1                0               0               0   \n",
            "202                0                0               0               0   \n",
            "79                 0                0               0               0   \n",
            "69                 0                0               1               0   \n",
            "145                0                0               0               0   \n",
            "55                 0                1               0               0   \n",
            "45                 1                0               0               0   \n",
            "84                 0                0               0               0   \n",
            "146                1                0               0               0   \n",
            "\n",
            "     fuelsystem_mpfi  fuelsystem_spdi  fuelsystem_spfi  \n",
            "15                 1                0                0  \n",
            "9                  1                0                0  \n",
            "100                0                0                0  \n",
            "132                1                0                0  \n",
            "68                 0                0                0  \n",
            "95                 0                0                0  \n",
            "159                0                0                0  \n",
            "162                0                0                0  \n",
            "147                1                0                0  \n",
            "182                0                0                0  \n",
            "191                1                0                0  \n",
            "164                0                0                0  \n",
            "65                 1                0                0  \n",
            "175                1                0                0  \n",
            "73                 1                0                0  \n",
            "152                0                0                0  \n",
            "18                 0                0                0  \n",
            "82                 0                1                0  \n",
            "86                 0                0                0  \n",
            "143                1                0                0  \n",
            "60                 0                0                0  \n",
            "101                1                0                0  \n",
            "98                 0                0                0  \n",
            "30                 0                0                0  \n",
            "25                 0                0                0  \n",
            "16                 1                0                0  \n",
            "168                1                0                0  \n",
            "195                1                0                0  \n",
            "97                 0                0                0  \n",
            "194                1                0                0  \n",
            "67                 0                0                0  \n",
            "120                0                0                0  \n",
            "154                0                0                0  \n",
            "202                1                0                0  \n",
            "79                 0                1                0  \n",
            "69                 0                0                0  \n",
            "145                1                0                0  \n",
            "55                 0                0                0  \n",
            "45                 0                0                0  \n",
            "84                 0                1                0  \n",
            "146                0                0                0  \n",
            "\n",
            "[41 rows x 199 columns]\n"
          ]
        }
      ]
    },
    {
      "cell_type": "markdown",
      "source": [
        "Linear Regression"
      ],
      "metadata": {
        "id": "cIv_yjCXbSQq"
      }
    },
    {
      "cell_type": "code",
      "source": [
        "from sklearn.linear_model import LinearRegression\n",
        "from sklearn.metrics import mean_squared_error , r2_score\n",
        "import math\n",
        "\n",
        "lmodel = LinearRegression()"
      ],
      "metadata": {
        "id": "02x1j6HqYUSS"
      },
      "execution_count": null,
      "outputs": []
    },
    {
      "cell_type": "code",
      "source": [
        "lmodel.fit(X_train, y_train)"
      ],
      "metadata": {
        "colab": {
          "base_uri": "https://localhost:8080/",
          "height": 74
        },
        "id": "YlLUdaOmbqSr",
        "outputId": "bdef1718-9e97-4b9b-efb6-5ecebf1c39c8"
      },
      "execution_count": null,
      "outputs": [
        {
          "output_type": "execute_result",
          "data": {
            "text/plain": [
              "LinearRegression()"
            ],
            "text/html": [
              "<style>#sk-container-id-1 {color: black;background-color: white;}#sk-container-id-1 pre{padding: 0;}#sk-container-id-1 div.sk-toggleable {background-color: white;}#sk-container-id-1 label.sk-toggleable__label {cursor: pointer;display: block;width: 100%;margin-bottom: 0;padding: 0.3em;box-sizing: border-box;text-align: center;}#sk-container-id-1 label.sk-toggleable__label-arrow:before {content: \"▸\";float: left;margin-right: 0.25em;color: #696969;}#sk-container-id-1 label.sk-toggleable__label-arrow:hover:before {color: black;}#sk-container-id-1 div.sk-estimator:hover label.sk-toggleable__label-arrow:before {color: black;}#sk-container-id-1 div.sk-toggleable__content {max-height: 0;max-width: 0;overflow: hidden;text-align: left;background-color: #f0f8ff;}#sk-container-id-1 div.sk-toggleable__content pre {margin: 0.2em;color: black;border-radius: 0.25em;background-color: #f0f8ff;}#sk-container-id-1 input.sk-toggleable__control:checked~div.sk-toggleable__content {max-height: 200px;max-width: 100%;overflow: auto;}#sk-container-id-1 input.sk-toggleable__control:checked~label.sk-toggleable__label-arrow:before {content: \"▾\";}#sk-container-id-1 div.sk-estimator input.sk-toggleable__control:checked~label.sk-toggleable__label {background-color: #d4ebff;}#sk-container-id-1 div.sk-label input.sk-toggleable__control:checked~label.sk-toggleable__label {background-color: #d4ebff;}#sk-container-id-1 input.sk-hidden--visually {border: 0;clip: rect(1px 1px 1px 1px);clip: rect(1px, 1px, 1px, 1px);height: 1px;margin: -1px;overflow: hidden;padding: 0;position: absolute;width: 1px;}#sk-container-id-1 div.sk-estimator {font-family: monospace;background-color: #f0f8ff;border: 1px dotted black;border-radius: 0.25em;box-sizing: border-box;margin-bottom: 0.5em;}#sk-container-id-1 div.sk-estimator:hover {background-color: #d4ebff;}#sk-container-id-1 div.sk-parallel-item::after {content: \"\";width: 100%;border-bottom: 1px solid gray;flex-grow: 1;}#sk-container-id-1 div.sk-label:hover label.sk-toggleable__label {background-color: #d4ebff;}#sk-container-id-1 div.sk-serial::before {content: \"\";position: absolute;border-left: 1px solid gray;box-sizing: border-box;top: 0;bottom: 0;left: 50%;z-index: 0;}#sk-container-id-1 div.sk-serial {display: flex;flex-direction: column;align-items: center;background-color: white;padding-right: 0.2em;padding-left: 0.2em;position: relative;}#sk-container-id-1 div.sk-item {position: relative;z-index: 1;}#sk-container-id-1 div.sk-parallel {display: flex;align-items: stretch;justify-content: center;background-color: white;position: relative;}#sk-container-id-1 div.sk-item::before, #sk-container-id-1 div.sk-parallel-item::before {content: \"\";position: absolute;border-left: 1px solid gray;box-sizing: border-box;top: 0;bottom: 0;left: 50%;z-index: -1;}#sk-container-id-1 div.sk-parallel-item {display: flex;flex-direction: column;z-index: 1;position: relative;background-color: white;}#sk-container-id-1 div.sk-parallel-item:first-child::after {align-self: flex-end;width: 50%;}#sk-container-id-1 div.sk-parallel-item:last-child::after {align-self: flex-start;width: 50%;}#sk-container-id-1 div.sk-parallel-item:only-child::after {width: 0;}#sk-container-id-1 div.sk-dashed-wrapped {border: 1px dashed gray;margin: 0 0.4em 0.5em 0.4em;box-sizing: border-box;padding-bottom: 0.4em;background-color: white;}#sk-container-id-1 div.sk-label label {font-family: monospace;font-weight: bold;display: inline-block;line-height: 1.2em;}#sk-container-id-1 div.sk-label-container {text-align: center;}#sk-container-id-1 div.sk-container {/* jupyter's `normalize.less` sets `[hidden] { display: none; }` but bootstrap.min.css set `[hidden] { display: none !important; }` so we also need the `!important` here to be able to override the default hidden behavior on the sphinx rendered scikit-learn.org. See: https://github.com/scikit-learn/scikit-learn/issues/21755 */display: inline-block !important;position: relative;}#sk-container-id-1 div.sk-text-repr-fallback {display: none;}</style><div id=\"sk-container-id-1\" class=\"sk-top-container\"><div class=\"sk-text-repr-fallback\"><pre>LinearRegression()</pre><b>In a Jupyter environment, please rerun this cell to show the HTML representation or trust the notebook. <br />On GitHub, the HTML representation is unable to render, please try loading this page with nbviewer.org.</b></div><div class=\"sk-container\" hidden><div class=\"sk-item\"><div class=\"sk-estimator sk-toggleable\"><input class=\"sk-toggleable__control sk-hidden--visually\" id=\"sk-estimator-id-1\" type=\"checkbox\" checked><label for=\"sk-estimator-id-1\" class=\"sk-toggleable__label sk-toggleable__label-arrow\">LinearRegression</label><div class=\"sk-toggleable__content\"><pre>LinearRegression()</pre></div></div></div></div></div>"
            ]
          },
          "metadata": {},
          "execution_count": 13
        }
      ]
    },
    {
      "cell_type": "code",
      "source": [
        "y_pred_l = lmodel.predict(X_test)"
      ],
      "metadata": {
        "id": "MPgstE2NbvWQ"
      },
      "execution_count": null,
      "outputs": []
    },
    {
      "cell_type": "code",
      "source": [
        "msel = mean_squared_error(y_test, y_pred_l)"
      ],
      "metadata": {
        "id": "P1eURgfYfExl"
      },
      "execution_count": null,
      "outputs": []
    },
    {
      "cell_type": "code",
      "source": [
        "rmsel = math.sqrt(msel)\n",
        "\n",
        "print(f\"RMSE: {rmsel}\")"
      ],
      "metadata": {
        "colab": {
          "base_uri": "https://localhost:8080/"
        },
        "id": "0gSg0MyufukW",
        "outputId": "8c1e8b37-ffd2-4256-f33c-d2aabf51cbc4"
      },
      "execution_count": null,
      "outputs": [
        {
          "output_type": "stream",
          "name": "stdout",
          "text": [
            "RMSE: 6480.700463416622\n"
          ]
        }
      ]
    },
    {
      "cell_type": "code",
      "source": [
        "r2_l = r2_score(y_test, y_pred_l)\n",
        "print(f\"R^2 Score: {r2_l}\")"
      ],
      "metadata": {
        "colab": {
          "base_uri": "https://localhost:8080/"
        },
        "id": "Wyb6nrSuekE1",
        "outputId": "fd14ed03-a675-4d8a-fe6a-565b91bc7e33"
      },
      "execution_count": null,
      "outputs": [
        {
          "output_type": "stream",
          "name": "stdout",
          "text": [
            "R^2 Score: 0.4679840470685872\n"
          ]
        }
      ]
    },
    {
      "cell_type": "markdown",
      "source": [
        "Decision tree regression"
      ],
      "metadata": {
        "id": "ZQDAGF9XieEv"
      }
    },
    {
      "cell_type": "code",
      "source": [
        "from sklearn.tree import DecisionTreeRegressor\n",
        "\n",
        "d_model = DecisionTreeRegressor()\n",
        "d_model.fit(X_train, y_train)\n",
        "\n",
        "y_pred_d = d_model.predict(X_test)\n"
      ],
      "metadata": {
        "id": "WxKyyE5vidh8"
      },
      "execution_count": null,
      "outputs": []
    },
    {
      "cell_type": "code",
      "source": [
        "mse = mean_squared_error(y_test, y_pred_d)\n",
        "rmse = math.sqrt(mse)\n",
        "\n",
        "print(f\"RMSE: {rmse}\")"
      ],
      "metadata": {
        "colab": {
          "base_uri": "https://localhost:8080/"
        },
        "id": "7G5rNEfQi8dc",
        "outputId": "536638a3-8f0f-4230-cde9-180d08f15794"
      },
      "execution_count": null,
      "outputs": [
        {
          "output_type": "stream",
          "name": "stdout",
          "text": [
            "RMSE: 3109.7151930365217\n"
          ]
        }
      ]
    },
    {
      "cell_type": "code",
      "source": [
        "r2 = r2_score(y_test, y_pred_d)\n",
        "print(f\"R^2 Score: {r2}\")"
      ],
      "metadata": {
        "colab": {
          "base_uri": "https://localhost:8080/"
        },
        "id": "e8vmhCd7jM8F",
        "outputId": "963d2ee5-28c7-4bc1-c73d-a8acd552e13e"
      },
      "execution_count": null,
      "outputs": [
        {
          "output_type": "stream",
          "name": "stdout",
          "text": [
            "R^2 Score: 0.8775039771974166\n"
          ]
        }
      ]
    }
  ]
}